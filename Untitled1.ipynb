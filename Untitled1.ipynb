{
 "cells": [
  {
   "cell_type": "code",
   "execution_count": 11,
   "id": "3c34ef96",
   "metadata": {},
   "outputs": [
    {
     "name": "stdout",
     "output_type": "stream",
     "text": [
      "6.0\n",
      "6.0\n",
      "6.0\n",
      "6.0\n",
      "6.0\n",
      "6.0\n",
      "33\n"
     ]
    }
   ],
   "source": [
    "n=6\n",
    "sum =0\n",
    "for i in range(1,n+1):\n",
    "    j=(n//i)\n",
    "    sum = sum +i*j\n",
    "return sum\n",
    "    \n",
    "    "
   ]
  },
  {
   "cell_type": "code",
   "execution_count": 14,
   "id": "3de3449d",
   "metadata": {},
   "outputs": [
    {
     "ename": "SyntaxError",
     "evalue": "invalid syntax (80703455.py, line 1)",
     "output_type": "error",
     "traceback": [
      "\u001b[1;36m  File \u001b[1;32m\"C:\\Users\\SREE DIVYA\\AppData\\Local\\Temp\\ipykernel_33284\\80703455.py\"\u001b[1;36m, line \u001b[1;32m1\u001b[0m\n\u001b[1;33m    def countPoints(int* circle1, int* circle2):\u001b[0m\n\u001b[1;37m                       ^\u001b[0m\n\u001b[1;31mSyntaxError\u001b[0m\u001b[1;31m:\u001b[0m invalid syntax\n"
     ]
    }
   ],
   "source": [
    "def countPoints(int* circle1, int* circle2):\n",
    "  a1, b1, r1 = circle1\n",
    "  a2, b2, r2 = circle2\n",
    "\n",
    "  # Check if the two circles intersect.\n",
    "  if ((a1 - a2) ** 2 + (b1 - b2) ** 2) ** 0.5 > r1 + r2:\n",
    "    return 0\n",
    "\n",
    "  # Calculate the intersection points of the two circles.\n",
    "  x1 = int(a1 - r1)\n",
    "  x2 = int(a1 + r1)\n",
    "  y1 = int(b1 - r1)\n",
    "  y2 = int(b1 + r1)\n",
    "\n",
    "  points = []\n",
    "  for x in range(x1, x2 + 1):\n",
    "    for y in range(y1, y2 + 1):\n",
    "      if ((x - a1) ** 2 + (y - b1) ** 2) ** 0.5 <= r1 and ((x - a2) ** 2 + (y - b2) ** 2) ** 0.5 <= r2:\n",
    "        points.append((x, y))\n",
    "\n",
    "  return len(points)\n",
    "\n",
    "\n",
    "if _name_ == \"_main_\":\n",
    "  circle1 = [1, 2, 3]\n",
    "  circle2 = [4, 5, 2]\n",
    "  print(countPoints(circle1, circle2))"
   ]
  },
  {
   "cell_type": "code",
   "execution_count": null,
   "id": "73fc6c33",
   "metadata": {},
   "outputs": [],
   "source": []
  },
  {
   "cell_type": "code",
   "execution_count": null,
   "id": "61180ef0",
   "metadata": {},
   "outputs": [],
   "source": []
  }
 ],
 "metadata": {
  "kernelspec": {
   "display_name": "Python 3 (ipykernel)",
   "language": "python",
   "name": "python3"
  },
  "language_info": {
   "codemirror_mode": {
    "name": "ipython",
    "version": 3
   },
   "file_extension": ".py",
   "mimetype": "text/x-python",
   "name": "python",
   "nbconvert_exporter": "python",
   "pygments_lexer": "ipython3",
   "version": "3.9.13"
  }
 },
 "nbformat": 4,
 "nbformat_minor": 5
}
